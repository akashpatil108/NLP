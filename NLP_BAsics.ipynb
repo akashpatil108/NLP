{
  "nbformat": 4,
  "nbformat_minor": 0,
  "metadata": {
    "colab": {
      "provenance": [],
      "authorship_tag": "ABX9TyOlzG6cNpsMGLdpOK5n34nb",
      "include_colab_link": true
    },
    "kernelspec": {
      "name": "python3",
      "display_name": "Python 3"
    },
    "language_info": {
      "name": "python"
    }
  },
  "cells": [
    {
      "cell_type": "markdown",
      "metadata": {
        "id": "view-in-github",
        "colab_type": "text"
      },
      "source": [
        "<a href=\"https://colab.research.google.com/github/akashpatil108/NLP/blob/main/NLP_BAsics.ipynb\" target=\"_parent\"><img src=\"https://colab.research.google.com/assets/colab-badge.svg\" alt=\"Open In Colab\"/></a>"
      ]
    },
    {
      "cell_type": "markdown",
      "source": [
        "# ***NLP (Natural Language Processing)***\n",
        "\n",
        "## Akash patil\n",
        "aakashgolu1008@gmail.com"
      ],
      "metadata": {
        "id": "YTsWGG_C6ZM-"
      }
    },
    {
      "cell_type": "markdown",
      "source": [
        "\n",
        "1. **Definition**: Natural Language Processing (NLP) is a subfield of artificial intelligence that focuses on enabling computers to understand, interpret, and generate human language.\n",
        "\n",
        "2. **Tasks in NLP**: NLP encompasses various tasks, including:\n",
        "   - Text Classification: Assigning categories or labels to text documents (e.g., sentiment analysis, spam detection).\n",
        "   - Named Entity Recognition (NER): Identifying and classifying entities (e.g., names of people, places) in text.\n",
        "   - Machine Translation: Translating text from one language to another.\n",
        "   - Sentiment Analysis: Determining the sentiment expressed in a piece of text (e.g., positive, negative, neutral).\n",
        "   - Text Generation: Creating human-like text, such as chatbots or language models.\n",
        "\n",
        "3. **Uses of NLP**:\n",
        "   - Virtual Assistants: Chatbots and virtual assistants like Siri, Alexa, and Google Assistant use NLP to understand and respond to user queries.\n",
        "   - Search Engines: NLP helps search engines understand user queries and retrieve relevant results.\n",
        "   - Text Analysis: NLP is used for sentiment analysis, customer feedback analysis, and market research.\n",
        "   - Language Translation: NLP powers language translation services like Google Translate.\n",
        "   - Speech Recognition: NLP plays a crucial role in converting spoken language into text (speech-to-text)."
      ],
      "metadata": {
        "id": "gnB3vRP35x10"
      }
    },
    {
      "cell_type": "markdown",
      "source": [
        "Names of popular NLP libraries:\n",
        "\n",
        "1. NLTK (Natural Language Toolkit)\n",
        "2. spaCy\n",
        "3. Gensim\n",
        "4. scikit-learn\n",
        "5. TensorFlow\n",
        "6. Keras\n",
        "7. Transformers (Hugging Face)\n",
        "8. TextBlob\n",
        "\n",
        "These libraries offer various functionalities for Natural Language Processing tasks and are widely used in the NLP community."
      ],
      "metadata": {
        "id": "drWoheCg7ZxA"
      }
    },
    {
      "cell_type": "code",
      "source": [],
      "metadata": {
        "id": "hK-MRWpE6QmP"
      },
      "execution_count": null,
      "outputs": []
    },
    {
      "cell_type": "markdown",
      "source": [
        " **Text Representation**:\n",
        "   - **Corpus**: A collection of text documents used for analysis.\n",
        "   - **Documents**: Individual pieces of text (e.g., sentences, paragraphs) in the corpus.\n",
        "   - **Vocabulary**: The set of unique words present in the corpus.\n",
        "   - **Words**: In NLP, words are often represented as vectors (numeric representations)."
      ],
      "metadata": {
        "id": "XKNW0puXGWoe"
      }
    },
    {
      "cell_type": "code",
      "source": [
        "\n",
        "from sklearn.feature_extraction.text import CountVectorizer\n",
        "\n",
        "# Corpus: Collection of text documents (sentences)\n",
        "corpus = [\n",
        "    \"This is the first document.\",\n",
        "    \"The second document is here.\",\n",
        "    \"And this is the third document.\",\n",
        "    \"Is this the first document?\"\n",
        "]\n",
        "\n",
        "# Create the CountVectorizer\n",
        "vectorizer = CountVectorizer()\n",
        "\n",
        "# Generate the word count matrix (Vector representation of the corpus)\n",
        "X = vectorizer.fit_transform(corpus)\n",
        "\n",
        "# Vocabulary: Set of unique words in the corpus\n",
        "vocabulary = vectorizer.get_feature_names_out()\n",
        "\n",
        "# Print the results\n",
        "print(\"Corpus:\")\n",
        "print(corpus,\"\\n\")\n",
        "\n",
        "for i, document in enumerate(corpus, start=1):\n",
        "    print(f\"Document {i}: {document}\" , \"\\n\")\n",
        "\n",
        "print(\"\\nVocabulary:\")\n",
        "print(vocabulary, \"\\n\")\n",
        "\n",
        "print(\"\\nVector representation of the corpus:\")\n",
        "print(X.toarray())\n"
      ],
      "metadata": {
        "colab": {
          "base_uri": "https://localhost:8080/",
          "height": 434
        },
        "id": "4tjCwxucH6kI",
        "outputId": "e5f6368b-51b3-444c-b092-934d02e591ff"
      },
      "execution_count": null,
      "outputs": [
        {
          "output_type": "display_data",
          "data": {
            "text/plain": [
              "Corpus:\n"
            ],
            "text/html": [
              "<pre style=\"white-space:pre;overflow-x:auto;line-height:normal;font-family:Menlo,'DejaVu Sans Mono',consolas,'Courier New',monospace\">Corpus:\n",
              "</pre>\n"
            ]
          },
          "metadata": {}
        },
        {
          "output_type": "display_data",
          "data": {
            "text/plain": [
              "\u001b[1m[\u001b[0m\n",
              "    \u001b[32m'This is the first document.'\u001b[0m,\n",
              "    \u001b[32m'The second document is here.'\u001b[0m,\n",
              "    \u001b[32m'And this is the third document.'\u001b[0m,\n",
              "    \u001b[32m'Is this the first document?'\u001b[0m\n",
              "\u001b[1m]\u001b[0m\n",
              "\n",
              "\n"
            ],
            "text/html": [
              "<pre style=\"white-space:pre;overflow-x:auto;line-height:normal;font-family:Menlo,'DejaVu Sans Mono',consolas,'Courier New',monospace\"><span style=\"font-weight: bold\">[</span>\n",
              "    <span style=\"color: #008000; text-decoration-color: #008000\">'This is the first document.'</span>,\n",
              "    <span style=\"color: #008000; text-decoration-color: #008000\">'The second document is here.'</span>,\n",
              "    <span style=\"color: #008000; text-decoration-color: #008000\">'And this is the third document.'</span>,\n",
              "    <span style=\"color: #008000; text-decoration-color: #008000\">'Is this the first document?'</span>\n",
              "<span style=\"font-weight: bold\">]</span>\n",
              "\n",
              "\n",
              "</pre>\n"
            ]
          },
          "metadata": {}
        },
        {
          "output_type": "display_data",
          "data": {
            "text/plain": [
              "Document \u001b[1;36m1\u001b[0m: This is the first document. \n",
              "\n"
            ],
            "text/html": [
              "<pre style=\"white-space:pre;overflow-x:auto;line-height:normal;font-family:Menlo,'DejaVu Sans Mono',consolas,'Courier New',monospace\">Document <span style=\"color: #008080; text-decoration-color: #008080; font-weight: bold\">1</span>: This is the first document. \n",
              "\n",
              "</pre>\n"
            ]
          },
          "metadata": {}
        },
        {
          "output_type": "display_data",
          "data": {
            "text/plain": [
              "Document \u001b[1;36m2\u001b[0m: The second document is here. \n",
              "\n"
            ],
            "text/html": [
              "<pre style=\"white-space:pre;overflow-x:auto;line-height:normal;font-family:Menlo,'DejaVu Sans Mono',consolas,'Courier New',monospace\">Document <span style=\"color: #008080; text-decoration-color: #008080; font-weight: bold\">2</span>: The second document is here. \n",
              "\n",
              "</pre>\n"
            ]
          },
          "metadata": {}
        },
        {
          "output_type": "display_data",
          "data": {
            "text/plain": [
              "Document \u001b[1;36m3\u001b[0m: And this is the third document. \n",
              "\n"
            ],
            "text/html": [
              "<pre style=\"white-space:pre;overflow-x:auto;line-height:normal;font-family:Menlo,'DejaVu Sans Mono',consolas,'Courier New',monospace\">Document <span style=\"color: #008080; text-decoration-color: #008080; font-weight: bold\">3</span>: And this is the third document. \n",
              "\n",
              "</pre>\n"
            ]
          },
          "metadata": {}
        },
        {
          "output_type": "display_data",
          "data": {
            "text/plain": [
              "Document \u001b[1;36m4\u001b[0m: Is this the first document? \n",
              "\n"
            ],
            "text/html": [
              "<pre style=\"white-space:pre;overflow-x:auto;line-height:normal;font-family:Menlo,'DejaVu Sans Mono',consolas,'Courier New',monospace\">Document <span style=\"color: #008080; text-decoration-color: #008080; font-weight: bold\">4</span>: Is this the first document? \n",
              "\n",
              "</pre>\n"
            ]
          },
          "metadata": {}
        },
        {
          "output_type": "display_data",
          "data": {
            "text/plain": [
              "\n",
              "Vocabulary:\n"
            ],
            "text/html": [
              "<pre style=\"white-space:pre;overflow-x:auto;line-height:normal;font-family:Menlo,'DejaVu Sans Mono',consolas,'Courier New',monospace\">\n",
              "Vocabulary:\n",
              "</pre>\n"
            ]
          },
          "metadata": {}
        },
        {
          "output_type": "display_data",
          "data": {
            "text/plain": [
              "\u001b[1m[\u001b[0m\u001b[32m'and'\u001b[0m \u001b[32m'document'\u001b[0m \u001b[32m'first'\u001b[0m \u001b[32m'here'\u001b[0m \u001b[32m'is'\u001b[0m \u001b[32m'second'\u001b[0m \u001b[32m'the'\u001b[0m \u001b[32m'third'\u001b[0m \u001b[32m'this'\u001b[0m\u001b[1m]\u001b[0m \n",
              "\n"
            ],
            "text/html": [
              "<pre style=\"white-space:pre;overflow-x:auto;line-height:normal;font-family:Menlo,'DejaVu Sans Mono',consolas,'Courier New',monospace\"><span style=\"font-weight: bold\">[</span><span style=\"color: #008000; text-decoration-color: #008000\">'and'</span> <span style=\"color: #008000; text-decoration-color: #008000\">'document'</span> <span style=\"color: #008000; text-decoration-color: #008000\">'first'</span> <span style=\"color: #008000; text-decoration-color: #008000\">'here'</span> <span style=\"color: #008000; text-decoration-color: #008000\">'is'</span> <span style=\"color: #008000; text-decoration-color: #008000\">'second'</span> <span style=\"color: #008000; text-decoration-color: #008000\">'the'</span> <span style=\"color: #008000; text-decoration-color: #008000\">'third'</span> <span style=\"color: #008000; text-decoration-color: #008000\">'this'</span><span style=\"font-weight: bold\">]</span> \n",
              "\n",
              "</pre>\n"
            ]
          },
          "metadata": {}
        },
        {
          "output_type": "display_data",
          "data": {
            "text/plain": [
              "\n",
              "Vector representation of the corpus:\n"
            ],
            "text/html": [
              "<pre style=\"white-space:pre;overflow-x:auto;line-height:normal;font-family:Menlo,'DejaVu Sans Mono',consolas,'Courier New',monospace\">\n",
              "Vector representation of the corpus:\n",
              "</pre>\n"
            ]
          },
          "metadata": {}
        },
        {
          "output_type": "display_data",
          "data": {
            "text/plain": [
              "\u001b[1m[\u001b[0m\u001b[1m[\u001b[0m\u001b[1;36m0\u001b[0m \u001b[1;36m1\u001b[0m \u001b[1;36m1\u001b[0m \u001b[1;36m0\u001b[0m \u001b[1;36m1\u001b[0m \u001b[1;36m0\u001b[0m \u001b[1;36m1\u001b[0m \u001b[1;36m0\u001b[0m \u001b[1;36m1\u001b[0m\u001b[1m]\u001b[0m\n",
              " \u001b[1m[\u001b[0m\u001b[1;36m0\u001b[0m \u001b[1;36m1\u001b[0m \u001b[1;36m0\u001b[0m \u001b[1;36m1\u001b[0m \u001b[1;36m1\u001b[0m \u001b[1;36m1\u001b[0m \u001b[1;36m1\u001b[0m \u001b[1;36m0\u001b[0m \u001b[1;36m0\u001b[0m\u001b[1m]\u001b[0m\n",
              " \u001b[1m[\u001b[0m\u001b[1;36m1\u001b[0m \u001b[1;36m1\u001b[0m \u001b[1;36m0\u001b[0m \u001b[1;36m0\u001b[0m \u001b[1;36m1\u001b[0m \u001b[1;36m0\u001b[0m \u001b[1;36m1\u001b[0m \u001b[1;36m1\u001b[0m \u001b[1;36m1\u001b[0m\u001b[1m]\u001b[0m\n",
              " \u001b[1m[\u001b[0m\u001b[1;36m0\u001b[0m \u001b[1;36m1\u001b[0m \u001b[1;36m1\u001b[0m \u001b[1;36m0\u001b[0m \u001b[1;36m1\u001b[0m \u001b[1;36m0\u001b[0m \u001b[1;36m1\u001b[0m \u001b[1;36m0\u001b[0m \u001b[1;36m1\u001b[0m\u001b[1m]\u001b[0m\u001b[1m]\u001b[0m\n"
            ],
            "text/html": [
              "<pre style=\"white-space:pre;overflow-x:auto;line-height:normal;font-family:Menlo,'DejaVu Sans Mono',consolas,'Courier New',monospace\"><span style=\"font-weight: bold\">[[</span><span style=\"color: #008080; text-decoration-color: #008080; font-weight: bold\">0</span> <span style=\"color: #008080; text-decoration-color: #008080; font-weight: bold\">1</span> <span style=\"color: #008080; text-decoration-color: #008080; font-weight: bold\">1</span> <span style=\"color: #008080; text-decoration-color: #008080; font-weight: bold\">0</span> <span style=\"color: #008080; text-decoration-color: #008080; font-weight: bold\">1</span> <span style=\"color: #008080; text-decoration-color: #008080; font-weight: bold\">0</span> <span style=\"color: #008080; text-decoration-color: #008080; font-weight: bold\">1</span> <span style=\"color: #008080; text-decoration-color: #008080; font-weight: bold\">0</span> <span style=\"color: #008080; text-decoration-color: #008080; font-weight: bold\">1</span><span style=\"font-weight: bold\">]</span>\n",
              " <span style=\"font-weight: bold\">[</span><span style=\"color: #008080; text-decoration-color: #008080; font-weight: bold\">0</span> <span style=\"color: #008080; text-decoration-color: #008080; font-weight: bold\">1</span> <span style=\"color: #008080; text-decoration-color: #008080; font-weight: bold\">0</span> <span style=\"color: #008080; text-decoration-color: #008080; font-weight: bold\">1</span> <span style=\"color: #008080; text-decoration-color: #008080; font-weight: bold\">1</span> <span style=\"color: #008080; text-decoration-color: #008080; font-weight: bold\">1</span> <span style=\"color: #008080; text-decoration-color: #008080; font-weight: bold\">1</span> <span style=\"color: #008080; text-decoration-color: #008080; font-weight: bold\">0</span> <span style=\"color: #008080; text-decoration-color: #008080; font-weight: bold\">0</span><span style=\"font-weight: bold\">]</span>\n",
              " <span style=\"font-weight: bold\">[</span><span style=\"color: #008080; text-decoration-color: #008080; font-weight: bold\">1</span> <span style=\"color: #008080; text-decoration-color: #008080; font-weight: bold\">1</span> <span style=\"color: #008080; text-decoration-color: #008080; font-weight: bold\">0</span> <span style=\"color: #008080; text-decoration-color: #008080; font-weight: bold\">0</span> <span style=\"color: #008080; text-decoration-color: #008080; font-weight: bold\">1</span> <span style=\"color: #008080; text-decoration-color: #008080; font-weight: bold\">0</span> <span style=\"color: #008080; text-decoration-color: #008080; font-weight: bold\">1</span> <span style=\"color: #008080; text-decoration-color: #008080; font-weight: bold\">1</span> <span style=\"color: #008080; text-decoration-color: #008080; font-weight: bold\">1</span><span style=\"font-weight: bold\">]</span>\n",
              " <span style=\"font-weight: bold\">[</span><span style=\"color: #008080; text-decoration-color: #008080; font-weight: bold\">0</span> <span style=\"color: #008080; text-decoration-color: #008080; font-weight: bold\">1</span> <span style=\"color: #008080; text-decoration-color: #008080; font-weight: bold\">1</span> <span style=\"color: #008080; text-decoration-color: #008080; font-weight: bold\">0</span> <span style=\"color: #008080; text-decoration-color: #008080; font-weight: bold\">1</span> <span style=\"color: #008080; text-decoration-color: #008080; font-weight: bold\">0</span> <span style=\"color: #008080; text-decoration-color: #008080; font-weight: bold\">1</span> <span style=\"color: #008080; text-decoration-color: #008080; font-weight: bold\">0</span> <span style=\"color: #008080; text-decoration-color: #008080; font-weight: bold\">1</span><span style=\"font-weight: bold\">]]</span>\n",
              "</pre>\n"
            ]
          },
          "metadata": {}
        }
      ]
    },
    {
      "cell_type": "markdown",
      "source": [
        "\n",
        "## Steps in NLP:\n",
        "\n",
        "1. **Text Preprocessing**:\n",
        "   - **Tokenization**: Splitting text into smaller units, called tokens. It helps in analyzing individual words or phrases.\n",
        "   - **Cleaning**: Removing unnecessary characters, symbols, and special characters from the text.\n",
        "   - **Lowercasing**: Converting all text to lowercase to ensure uniformity.\n",
        "   - **Stemming**: Reducing words to their root form by removing suffixes (e.g., \"running\" to \"run\").\n",
        "   - **Advantages of Stemming**: It reduces word variants and simplifies the vocabulary for analysis.\n",
        "   - **Disadvantages of Stemming**: Sometimes, the stemming process produces non-words that may not carry meaningful information.\n",
        "   - **Lemmatization**: Similar to stemming, but it transforms words to their base or dictionary form (e.g., \"better\" to \"good\").\n",
        "   - **Advantages of Lemmatization**: It produces valid words, which helps in better analysis and understanding.\n",
        "   - **Disadvantages of Lemmatization**: It requires more computational resources compared to stemming.\n",
        "   - **Stopwords**: Common words like \"the,\" \"and,\" \"is\" that are removed as they don't add much meaning to the text."
      ],
      "metadata": {
        "id": "4bW7UsXc6DHm"
      }
    },
    {
      "cell_type": "code",
      "source": [
        "# Tokenization (using NLTK):\n",
        "from rich import print\n",
        "import nltk\n",
        "nltk.download('punkt')  # Download tokenizer data (run only once)\n",
        "from nltk.tokenize import word_tokenize,sent_tokenize\n",
        "\n",
        "text = \"This is an example sentence. Tokenization is essential.\"\n",
        "tokens = word_tokenize(text)\n",
        "print(\"[bold green]This is word tokenization-[/bold green] \" , tokens)\n",
        "sentences = sent_tokenize(text)\n",
        "print('this is sentence tokenization :-', sentences)"
      ],
      "metadata": {
        "colab": {
          "base_uri": "https://localhost:8080/",
          "height": 121
        },
        "id": "tURYRfJq7lLE",
        "outputId": "2dfd7b54-8e66-40a7-8965-d00a3fbfadd4"
      },
      "execution_count": null,
      "outputs": [
        {
          "output_type": "stream",
          "name": "stderr",
          "text": [
            "[nltk_data] Downloading package punkt to /root/nltk_data...\n",
            "[nltk_data]   Package punkt is already up-to-date!\n"
          ]
        },
        {
          "output_type": "display_data",
          "data": {
            "text/plain": [
              "\u001b[1;32mThis is word tokenization-\u001b[0m \n",
              "\u001b[1m[\u001b[0m\u001b[32m'This'\u001b[0m, \u001b[32m'is'\u001b[0m, \u001b[32m'an'\u001b[0m, \u001b[32m'example'\u001b[0m, \u001b[32m'sentence'\u001b[0m, \u001b[32m'.'\u001b[0m, \u001b[32m'Tokenization'\u001b[0m, \u001b[32m'is'\u001b[0m, \u001b[32m'essential'\u001b[0m, \u001b[32m'.'\u001b[0m\u001b[1m]\u001b[0m\n"
            ],
            "text/html": [
              "<pre style=\"white-space:pre;overflow-x:auto;line-height:normal;font-family:Menlo,'DejaVu Sans Mono',consolas,'Courier New',monospace\"><span style=\"color: #008000; text-decoration-color: #008000; font-weight: bold\">This is word tokenization-</span> \n",
              "<span style=\"font-weight: bold\">[</span><span style=\"color: #008000; text-decoration-color: #008000\">'This'</span>, <span style=\"color: #008000; text-decoration-color: #008000\">'is'</span>, <span style=\"color: #008000; text-decoration-color: #008000\">'an'</span>, <span style=\"color: #008000; text-decoration-color: #008000\">'example'</span>, <span style=\"color: #008000; text-decoration-color: #008000\">'sentence'</span>, <span style=\"color: #008000; text-decoration-color: #008000\">'.'</span>, <span style=\"color: #008000; text-decoration-color: #008000\">'Tokenization'</span>, <span style=\"color: #008000; text-decoration-color: #008000\">'is'</span>, <span style=\"color: #008000; text-decoration-color: #008000\">'essential'</span>, <span style=\"color: #008000; text-decoration-color: #008000\">'.'</span><span style=\"font-weight: bold\">]</span>\n",
              "</pre>\n"
            ]
          },
          "metadata": {}
        },
        {
          "output_type": "display_data",
          "data": {
            "text/plain": [
              "this is sent_tokenization :-\n",
              "\u001b[1m[\u001b[0m\u001b[32m'This is an example sentence.'\u001b[0m, \u001b[32m'Tokenization is essential.'\u001b[0m\u001b[1m]\u001b[0m\n"
            ],
            "text/html": [
              "<pre style=\"white-space:pre;overflow-x:auto;line-height:normal;font-family:Menlo,'DejaVu Sans Mono',consolas,'Courier New',monospace\">this is sent_tokenization :-\n",
              "<span style=\"font-weight: bold\">[</span><span style=\"color: #008000; text-decoration-color: #008000\">'This is an example sentence.'</span>, <span style=\"color: #008000; text-decoration-color: #008000\">'Tokenization is essential.'</span><span style=\"font-weight: bold\">]</span>\n",
              "</pre>\n"
            ]
          },
          "metadata": {}
        }
      ]
    },
    {
      "cell_type": "code",
      "source": [
        "# Cleaning and lower case\n",
        "import re\n",
        "\n",
        "def clean_text(text):\n",
        "    # Remove special characters and digits\n",
        "    cleaned_text = re.sub(r'[^a-zA-Z\\s]', '', text)\n",
        "    return cleaned_text\n",
        "\n",
        "text = \"This is An Example sentence with !@#$ special characters AND 123 digits.\"\n",
        "cleaned_text = clean_text(text)\n",
        "lowered_text=cleaned_text.lower()\n",
        "print('[blue bold]cleaned text :-[/blue bold] ',cleaned_text)\n",
        "print('[blue bold]lowering the text :-[/blue bold]', lowered_text)"
      ],
      "metadata": {
        "colab": {
          "base_uri": "https://localhost:8080/",
          "height": 50
        },
        "id": "OeR5iVWv6RcG",
        "outputId": "5536c77d-0b20-481c-a9d9-a55eb3231972"
      },
      "execution_count": null,
      "outputs": [
        {
          "output_type": "display_data",
          "data": {
            "text/plain": [
              "\u001b[1;34mcleaned text :-\u001b[0m  This is An Example sentence with  special characters AND  digits\n"
            ],
            "text/html": [
              "<pre style=\"white-space:pre;overflow-x:auto;line-height:normal;font-family:Menlo,'DejaVu Sans Mono',consolas,'Courier New',monospace\"><span style=\"color: #000080; text-decoration-color: #000080; font-weight: bold\">cleaned text :-</span>  This is An Example sentence with  special characters AND  digits\n",
              "</pre>\n"
            ]
          },
          "metadata": {}
        },
        {
          "output_type": "display_data",
          "data": {
            "text/plain": [
              "\u001b[1;34mlowering the text :-\u001b[0m this is an example sentence with  special characters and  digits\n"
            ],
            "text/html": [
              "<pre style=\"white-space:pre;overflow-x:auto;line-height:normal;font-family:Menlo,'DejaVu Sans Mono',consolas,'Courier New',monospace\"><span style=\"color: #000080; text-decoration-color: #000080; font-weight: bold\">lowering the text :-</span> this is an example sentence with  special characters and  digits\n",
              "</pre>\n"
            ]
          },
          "metadata": {}
        }
      ]
    },
    {
      "cell_type": "code",
      "source": [
        "import nltk\n",
        "from nltk.corpus import stopwords\n",
        "from nltk.tokenize import word_tokenize\n",
        "from nltk.stem import PorterStemmer\n",
        "\n",
        "nltk.download('punkt')  # Download tokenizer data (run only once)\n",
        "nltk.download('stopwords')  # Download stopwords data (run only once)\n",
        "\n",
        "def preprocess_text(text):\n",
        "    # Tokenization\n",
        "    tokens = word_tokenize(text)\n",
        "\n",
        "    # Removing stopwords\n",
        "    stop_words = set(stopwords.words('english'))\n",
        "    filtered_tokens = [word for word in tokens if word.lower() not in stop_words]\n",
        "\n",
        "    # Stemming\n",
        "    stemmer = PorterStemmer()\n",
        "    stemmed_tokens = [stemmer.stem(word) for word in filtered_tokens]\n",
        "\n",
        "    return stemmed_tokens\n",
        "\n",
        "text = \"This is an example sentence with some stopwords and it will be stemmed.\"\n",
        "processed_text = preprocess_text(text)\n",
        "print(processed_text)\n"
      ],
      "metadata": {
        "colab": {
          "base_uri": "https://localhost:8080/",
          "height": 107
        },
        "id": "NPvGqHnlCm5W",
        "outputId": "54141ec5-ae7d-4435-f2ce-27751cb11632"
      },
      "execution_count": null,
      "outputs": [
        {
          "output_type": "stream",
          "name": "stderr",
          "text": [
            "[nltk_data] Downloading package punkt to /root/nltk_data...\n",
            "[nltk_data]   Package punkt is already up-to-date!\n",
            "[nltk_data] Downloading package stopwords to /root/nltk_data...\n",
            "[nltk_data]   Package stopwords is already up-to-date!\n"
          ]
        },
        {
          "output_type": "display_data",
          "data": {
            "text/plain": [
              "\u001b[1m[\u001b[0m\u001b[32m'exampl'\u001b[0m, \u001b[32m'sentenc'\u001b[0m, \u001b[32m'stopword'\u001b[0m, \u001b[32m'stem'\u001b[0m, \u001b[32m'.'\u001b[0m\u001b[1m]\u001b[0m\n"
            ],
            "text/html": [
              "<pre style=\"white-space:pre;overflow-x:auto;line-height:normal;font-family:Menlo,'DejaVu Sans Mono',consolas,'Courier New',monospace\"><span style=\"font-weight: bold\">[</span><span style=\"color: #008000; text-decoration-color: #008000\">'exampl'</span>, <span style=\"color: #008000; text-decoration-color: #008000\">'sentenc'</span>, <span style=\"color: #008000; text-decoration-color: #008000\">'stopword'</span>, <span style=\"color: #008000; text-decoration-color: #008000\">'stem'</span>, <span style=\"color: #008000; text-decoration-color: #008000\">'.'</span><span style=\"font-weight: bold\">]</span>\n",
              "</pre>\n"
            ]
          },
          "metadata": {}
        }
      ]
    },
    {
      "cell_type": "code",
      "source": [
        "import nltk\n",
        "from nltk.corpus import stopwords\n",
        "from nltk.tokenize import word_tokenize\n",
        "from nltk.stem import WordNetLemmatizer\n",
        "\n",
        "nltk.download('punkt')       # Download tokenizer data (run only once)\n",
        "nltk.download('stopwords')   # Download stopwords data (run only once)\n",
        "nltk.download('wordnet')     # Download WordNet data (run only once)\n",
        "\n",
        "def preprocess_text(text):\n",
        "    # Tokenize the text\n",
        "    tokens = word_tokenize(text)\n",
        "\n",
        "    # Remove stopwords\n",
        "    stop_words = set(stopwords.words('english'))\n",
        "    filtered_tokens = [word for word in tokens if word.lower() not in stop_words]\n",
        "\n",
        "    # Lemmatize the words\n",
        "    lemmatizer = WordNetLemmatizer()\n",
        "    lemmatized_tokens = [lemmatizer.lemmatize(token) for token in filtered_tokens]\n",
        "\n",
        "    return lemmatized_tokens\n",
        "\n",
        "text = \"This is an example sentence with some stopwords and lemmatized words.\"\n",
        "processed_tokens = preprocess_text(text)\n",
        "print(processed_tokens)\n"
      ],
      "metadata": {
        "colab": {
          "base_uri": "https://localhost:8080/",
          "height": 144
        },
        "id": "bBeQTf4VD7BL",
        "outputId": "2f0508fd-3a26-4fc2-fe8b-00369ef28bce"
      },
      "execution_count": null,
      "outputs": [
        {
          "output_type": "stream",
          "name": "stderr",
          "text": [
            "[nltk_data] Downloading package punkt to /root/nltk_data...\n",
            "[nltk_data]   Package punkt is already up-to-date!\n",
            "[nltk_data] Downloading package stopwords to /root/nltk_data...\n",
            "[nltk_data]   Package stopwords is already up-to-date!\n",
            "[nltk_data] Downloading package wordnet to /root/nltk_data...\n",
            "[nltk_data]   Package wordnet is already up-to-date!\n"
          ]
        },
        {
          "output_type": "display_data",
          "data": {
            "text/plain": [
              "\u001b[1m[\u001b[0m\u001b[32m'example'\u001b[0m, \u001b[32m'sentence'\u001b[0m, \u001b[32m'stopwords'\u001b[0m, \u001b[32m'lemmatized'\u001b[0m, \u001b[32m'word'\u001b[0m, \u001b[32m'.'\u001b[0m\u001b[1m]\u001b[0m\n"
            ],
            "text/html": [
              "<pre style=\"white-space:pre;overflow-x:auto;line-height:normal;font-family:Menlo,'DejaVu Sans Mono',consolas,'Courier New',monospace\"><span style=\"font-weight: bold\">[</span><span style=\"color: #008000; text-decoration-color: #008000\">'example'</span>, <span style=\"color: #008000; text-decoration-color: #008000\">'sentence'</span>, <span style=\"color: #008000; text-decoration-color: #008000\">'stopwords'</span>, <span style=\"color: #008000; text-decoration-color: #008000\">'lemmatized'</span>, <span style=\"color: #008000; text-decoration-color: #008000\">'word'</span>, <span style=\"color: #008000; text-decoration-color: #008000\">'.'</span><span style=\"font-weight: bold\">]</span>\n",
              "</pre>\n"
            ]
          },
          "metadata": {}
        }
      ]
    },
    {
      "cell_type": "markdown",
      "source": [
        "\n",
        "\n",
        "2. **Word Embeddings**:\n",
        "   - **Count or Frequency-Based Methods**:\n",
        "     - **One-Hot Encoding**: Each word is represented as a binary vector with '1' at its index in the vocabulary and '0' elsewhere.\n",
        "       - *Advantages*: Simple and easy to implement.\n",
        "       - *Disadvantages*: High-dimensional, sparse vectors and doesn't capture word relationships.\n",
        "     - **Bag of Words (BoW)**: Represents a text as the frequency distribution of its words in the vocabulary.\n",
        "       - *Advantages*: Captures word occurrences in a document.\n",
        "       - *Disadvantages*: Ignores word order and context.\n",
        "     - **TF-IDF (Term Frequency-Inverse Document Frequency)**: Weighs the importance of words in a document relative to the entire corpus.\n",
        "       - *Advantages*: Considers the significance of words in a document while considering their frequency in the corpus.\n",
        "       - *Disadvantages*: Ignores word order and context."
      ],
      "metadata": {
        "id": "3-pprFPJ6DPb"
      }
    },
    {
      "cell_type": "code",
      "source": [
        "from sklearn.preprocessing import OneHotEncoder\n",
        "from sklearn.feature_extraction.text import CountVectorizer\n",
        "\n",
        "# Corpus: Collection of text documents (sentences)\n",
        "corpus = [\n",
        "    \"This is the first document.\",\n",
        "    \"The second document is here.\",\n",
        "    \"And this is the third document.\",\n",
        "    \"Is this the first document?\"\n",
        "]\n",
        "\n",
        "# Create the CountVectorizer\n",
        "vectorizer = CountVectorizer()\n",
        "X = vectorizer.fit_transform(corpus)\n",
        "\n",
        "# Vocabulary: Set of unique words in the corpus\n",
        "vocabulary = vectorizer.get_feature_names_out()\n",
        "\n",
        "# Convert the sparse matrix to a dense array\n",
        "X_dense = X.toarray()\n",
        "\n",
        "# One-Hot Encoder\n",
        "encoder = OneHotEncoder(dtype=int)  # Specify dtype=int to avoid errors\n",
        "OHE = encoder.fit_transform(X_dense)\n",
        "\n",
        "# Print vocabularies\n",
        "print(\"Vocabulary:\")\n",
        "print(vocabulary)\n",
        "\n",
        "# Print OHE for each document\n",
        "print(\"\\nOne-Hot Encoding for each document:\")\n",
        "for i, document in enumerate(corpus, start=1):\n",
        "    print(f\"Document {i}:\")\n",
        "    print(OHE[i - 1].toarray())\n"
      ],
      "metadata": {
        "colab": {
          "base_uri": "https://localhost:8080/",
          "height": 200
        },
        "id": "vW1v45iQ6SKZ",
        "outputId": "326dd89b-e477-40ff-f367-4de3ba130ac3"
      },
      "execution_count": null,
      "outputs": [
        {
          "output_type": "display_data",
          "data": {
            "text/plain": [
              "Vocabulary:\n"
            ],
            "text/html": [
              "<pre style=\"white-space:pre;overflow-x:auto;line-height:normal;font-family:Menlo,'DejaVu Sans Mono',consolas,'Courier New',monospace\">Vocabulary:\n",
              "</pre>\n"
            ]
          },
          "metadata": {}
        },
        {
          "output_type": "display_data",
          "data": {
            "text/plain": [
              "\u001b[1m[\u001b[0m\u001b[32m'and'\u001b[0m \u001b[32m'document'\u001b[0m \u001b[32m'first'\u001b[0m \u001b[32m'here'\u001b[0m \u001b[32m'is'\u001b[0m \u001b[32m'second'\u001b[0m \u001b[32m'the'\u001b[0m \u001b[32m'third'\u001b[0m \u001b[32m'this'\u001b[0m\u001b[1m]\u001b[0m\n"
            ],
            "text/html": [
              "<pre style=\"white-space:pre;overflow-x:auto;line-height:normal;font-family:Menlo,'DejaVu Sans Mono',consolas,'Courier New',monospace\"><span style=\"font-weight: bold\">[</span><span style=\"color: #008000; text-decoration-color: #008000\">'and'</span> <span style=\"color: #008000; text-decoration-color: #008000\">'document'</span> <span style=\"color: #008000; text-decoration-color: #008000\">'first'</span> <span style=\"color: #008000; text-decoration-color: #008000\">'here'</span> <span style=\"color: #008000; text-decoration-color: #008000\">'is'</span> <span style=\"color: #008000; text-decoration-color: #008000\">'second'</span> <span style=\"color: #008000; text-decoration-color: #008000\">'the'</span> <span style=\"color: #008000; text-decoration-color: #008000\">'third'</span> <span style=\"color: #008000; text-decoration-color: #008000\">'this'</span><span style=\"font-weight: bold\">]</span>\n",
              "</pre>\n"
            ]
          },
          "metadata": {}
        },
        {
          "output_type": "display_data",
          "data": {
            "text/plain": [
              "\n",
              "One-Hot Encoding for each document:\n"
            ],
            "text/html": [
              "<pre style=\"white-space:pre;overflow-x:auto;line-height:normal;font-family:Menlo,'DejaVu Sans Mono',consolas,'Courier New',monospace\">\n",
              "One-Hot Encoding for each document:\n",
              "</pre>\n"
            ]
          },
          "metadata": {}
        },
        {
          "output_type": "display_data",
          "data": {
            "text/plain": [
              "Document \u001b[1;36m1\u001b[0m:\n"
            ],
            "text/html": [
              "<pre style=\"white-space:pre;overflow-x:auto;line-height:normal;font-family:Menlo,'DejaVu Sans Mono',consolas,'Courier New',monospace\">Document <span style=\"color: #008080; text-decoration-color: #008080; font-weight: bold\">1</span>:\n",
              "</pre>\n"
            ]
          },
          "metadata": {}
        },
        {
          "output_type": "display_data",
          "data": {
            "text/plain": [
              "\u001b[1m[\u001b[0m\u001b[1m[\u001b[0m\u001b[1;36m1\u001b[0m \u001b[1;36m0\u001b[0m \u001b[1;36m1\u001b[0m \u001b[1;36m0\u001b[0m \u001b[1;36m1\u001b[0m \u001b[1;36m1\u001b[0m \u001b[1;36m0\u001b[0m \u001b[1;36m1\u001b[0m \u001b[1;36m1\u001b[0m \u001b[1;36m0\u001b[0m \u001b[1;36m1\u001b[0m \u001b[1;36m1\u001b[0m \u001b[1;36m0\u001b[0m \u001b[1;36m0\u001b[0m \u001b[1;36m1\u001b[0m\u001b[1m]\u001b[0m\u001b[1m]\u001b[0m\n"
            ],
            "text/html": [
              "<pre style=\"white-space:pre;overflow-x:auto;line-height:normal;font-family:Menlo,'DejaVu Sans Mono',consolas,'Courier New',monospace\"><span style=\"font-weight: bold\">[[</span><span style=\"color: #008080; text-decoration-color: #008080; font-weight: bold\">1</span> <span style=\"color: #008080; text-decoration-color: #008080; font-weight: bold\">0</span> <span style=\"color: #008080; text-decoration-color: #008080; font-weight: bold\">1</span> <span style=\"color: #008080; text-decoration-color: #008080; font-weight: bold\">0</span> <span style=\"color: #008080; text-decoration-color: #008080; font-weight: bold\">1</span> <span style=\"color: #008080; text-decoration-color: #008080; font-weight: bold\">1</span> <span style=\"color: #008080; text-decoration-color: #008080; font-weight: bold\">0</span> <span style=\"color: #008080; text-decoration-color: #008080; font-weight: bold\">1</span> <span style=\"color: #008080; text-decoration-color: #008080; font-weight: bold\">1</span> <span style=\"color: #008080; text-decoration-color: #008080; font-weight: bold\">0</span> <span style=\"color: #008080; text-decoration-color: #008080; font-weight: bold\">1</span> <span style=\"color: #008080; text-decoration-color: #008080; font-weight: bold\">1</span> <span style=\"color: #008080; text-decoration-color: #008080; font-weight: bold\">0</span> <span style=\"color: #008080; text-decoration-color: #008080; font-weight: bold\">0</span> <span style=\"color: #008080; text-decoration-color: #008080; font-weight: bold\">1</span><span style=\"font-weight: bold\">]]</span>\n",
              "</pre>\n"
            ]
          },
          "metadata": {}
        },
        {
          "output_type": "display_data",
          "data": {
            "text/plain": [
              "Document \u001b[1;36m2\u001b[0m:\n"
            ],
            "text/html": [
              "<pre style=\"white-space:pre;overflow-x:auto;line-height:normal;font-family:Menlo,'DejaVu Sans Mono',consolas,'Courier New',monospace\">Document <span style=\"color: #008080; text-decoration-color: #008080; font-weight: bold\">2</span>:\n",
              "</pre>\n"
            ]
          },
          "metadata": {}
        },
        {
          "output_type": "display_data",
          "data": {
            "text/plain": [
              "\u001b[1m[\u001b[0m\u001b[1m[\u001b[0m\u001b[1;36m1\u001b[0m \u001b[1;36m0\u001b[0m \u001b[1;36m1\u001b[0m \u001b[1;36m1\u001b[0m \u001b[1;36m0\u001b[0m \u001b[1;36m0\u001b[0m \u001b[1;36m1\u001b[0m \u001b[1;36m1\u001b[0m \u001b[1;36m0\u001b[0m \u001b[1;36m1\u001b[0m \u001b[1;36m1\u001b[0m \u001b[1;36m1\u001b[0m \u001b[1;36m0\u001b[0m \u001b[1;36m1\u001b[0m \u001b[1;36m0\u001b[0m\u001b[1m]\u001b[0m\u001b[1m]\u001b[0m\n"
            ],
            "text/html": [
              "<pre style=\"white-space:pre;overflow-x:auto;line-height:normal;font-family:Menlo,'DejaVu Sans Mono',consolas,'Courier New',monospace\"><span style=\"font-weight: bold\">[[</span><span style=\"color: #008080; text-decoration-color: #008080; font-weight: bold\">1</span> <span style=\"color: #008080; text-decoration-color: #008080; font-weight: bold\">0</span> <span style=\"color: #008080; text-decoration-color: #008080; font-weight: bold\">1</span> <span style=\"color: #008080; text-decoration-color: #008080; font-weight: bold\">1</span> <span style=\"color: #008080; text-decoration-color: #008080; font-weight: bold\">0</span> <span style=\"color: #008080; text-decoration-color: #008080; font-weight: bold\">0</span> <span style=\"color: #008080; text-decoration-color: #008080; font-weight: bold\">1</span> <span style=\"color: #008080; text-decoration-color: #008080; font-weight: bold\">1</span> <span style=\"color: #008080; text-decoration-color: #008080; font-weight: bold\">0</span> <span style=\"color: #008080; text-decoration-color: #008080; font-weight: bold\">1</span> <span style=\"color: #008080; text-decoration-color: #008080; font-weight: bold\">1</span> <span style=\"color: #008080; text-decoration-color: #008080; font-weight: bold\">1</span> <span style=\"color: #008080; text-decoration-color: #008080; font-weight: bold\">0</span> <span style=\"color: #008080; text-decoration-color: #008080; font-weight: bold\">1</span> <span style=\"color: #008080; text-decoration-color: #008080; font-weight: bold\">0</span><span style=\"font-weight: bold\">]]</span>\n",
              "</pre>\n"
            ]
          },
          "metadata": {}
        },
        {
          "output_type": "display_data",
          "data": {
            "text/plain": [
              "Document \u001b[1;36m3\u001b[0m:\n"
            ],
            "text/html": [
              "<pre style=\"white-space:pre;overflow-x:auto;line-height:normal;font-family:Menlo,'DejaVu Sans Mono',consolas,'Courier New',monospace\">Document <span style=\"color: #008080; text-decoration-color: #008080; font-weight: bold\">3</span>:\n",
              "</pre>\n"
            ]
          },
          "metadata": {}
        },
        {
          "output_type": "display_data",
          "data": {
            "text/plain": [
              "\u001b[1m[\u001b[0m\u001b[1m[\u001b[0m\u001b[1;36m0\u001b[0m \u001b[1;36m1\u001b[0m \u001b[1;36m1\u001b[0m \u001b[1;36m1\u001b[0m \u001b[1;36m0\u001b[0m \u001b[1;36m1\u001b[0m \u001b[1;36m0\u001b[0m \u001b[1;36m1\u001b[0m \u001b[1;36m1\u001b[0m \u001b[1;36m0\u001b[0m \u001b[1;36m1\u001b[0m \u001b[1;36m0\u001b[0m \u001b[1;36m1\u001b[0m \u001b[1;36m0\u001b[0m \u001b[1;36m1\u001b[0m\u001b[1m]\u001b[0m\u001b[1m]\u001b[0m\n"
            ],
            "text/html": [
              "<pre style=\"white-space:pre;overflow-x:auto;line-height:normal;font-family:Menlo,'DejaVu Sans Mono',consolas,'Courier New',monospace\"><span style=\"font-weight: bold\">[[</span><span style=\"color: #008080; text-decoration-color: #008080; font-weight: bold\">0</span> <span style=\"color: #008080; text-decoration-color: #008080; font-weight: bold\">1</span> <span style=\"color: #008080; text-decoration-color: #008080; font-weight: bold\">1</span> <span style=\"color: #008080; text-decoration-color: #008080; font-weight: bold\">1</span> <span style=\"color: #008080; text-decoration-color: #008080; font-weight: bold\">0</span> <span style=\"color: #008080; text-decoration-color: #008080; font-weight: bold\">1</span> <span style=\"color: #008080; text-decoration-color: #008080; font-weight: bold\">0</span> <span style=\"color: #008080; text-decoration-color: #008080; font-weight: bold\">1</span> <span style=\"color: #008080; text-decoration-color: #008080; font-weight: bold\">1</span> <span style=\"color: #008080; text-decoration-color: #008080; font-weight: bold\">0</span> <span style=\"color: #008080; text-decoration-color: #008080; font-weight: bold\">1</span> <span style=\"color: #008080; text-decoration-color: #008080; font-weight: bold\">0</span> <span style=\"color: #008080; text-decoration-color: #008080; font-weight: bold\">1</span> <span style=\"color: #008080; text-decoration-color: #008080; font-weight: bold\">0</span> <span style=\"color: #008080; text-decoration-color: #008080; font-weight: bold\">1</span><span style=\"font-weight: bold\">]]</span>\n",
              "</pre>\n"
            ]
          },
          "metadata": {}
        },
        {
          "output_type": "display_data",
          "data": {
            "text/plain": [
              "Document \u001b[1;36m4\u001b[0m:\n"
            ],
            "text/html": [
              "<pre style=\"white-space:pre;overflow-x:auto;line-height:normal;font-family:Menlo,'DejaVu Sans Mono',consolas,'Courier New',monospace\">Document <span style=\"color: #008080; text-decoration-color: #008080; font-weight: bold\">4</span>:\n",
              "</pre>\n"
            ]
          },
          "metadata": {}
        },
        {
          "output_type": "display_data",
          "data": {
            "text/plain": [
              "\u001b[1m[\u001b[0m\u001b[1m[\u001b[0m\u001b[1;36m1\u001b[0m \u001b[1;36m0\u001b[0m \u001b[1;36m1\u001b[0m \u001b[1;36m0\u001b[0m \u001b[1;36m1\u001b[0m \u001b[1;36m1\u001b[0m \u001b[1;36m0\u001b[0m \u001b[1;36m1\u001b[0m \u001b[1;36m1\u001b[0m \u001b[1;36m0\u001b[0m \u001b[1;36m1\u001b[0m \u001b[1;36m1\u001b[0m \u001b[1;36m0\u001b[0m \u001b[1;36m0\u001b[0m \u001b[1;36m1\u001b[0m\u001b[1m]\u001b[0m\u001b[1m]\u001b[0m\n"
            ],
            "text/html": [
              "<pre style=\"white-space:pre;overflow-x:auto;line-height:normal;font-family:Menlo,'DejaVu Sans Mono',consolas,'Courier New',monospace\"><span style=\"font-weight: bold\">[[</span><span style=\"color: #008080; text-decoration-color: #008080; font-weight: bold\">1</span> <span style=\"color: #008080; text-decoration-color: #008080; font-weight: bold\">0</span> <span style=\"color: #008080; text-decoration-color: #008080; font-weight: bold\">1</span> <span style=\"color: #008080; text-decoration-color: #008080; font-weight: bold\">0</span> <span style=\"color: #008080; text-decoration-color: #008080; font-weight: bold\">1</span> <span style=\"color: #008080; text-decoration-color: #008080; font-weight: bold\">1</span> <span style=\"color: #008080; text-decoration-color: #008080; font-weight: bold\">0</span> <span style=\"color: #008080; text-decoration-color: #008080; font-weight: bold\">1</span> <span style=\"color: #008080; text-decoration-color: #008080; font-weight: bold\">1</span> <span style=\"color: #008080; text-decoration-color: #008080; font-weight: bold\">0</span> <span style=\"color: #008080; text-decoration-color: #008080; font-weight: bold\">1</span> <span style=\"color: #008080; text-decoration-color: #008080; font-weight: bold\">1</span> <span style=\"color: #008080; text-decoration-color: #008080; font-weight: bold\">0</span> <span style=\"color: #008080; text-decoration-color: #008080; font-weight: bold\">0</span> <span style=\"color: #008080; text-decoration-color: #008080; font-weight: bold\">1</span><span style=\"font-weight: bold\">]]</span>\n",
              "</pre>\n"
            ]
          },
          "metadata": {}
        }
      ]
    },
    {
      "cell_type": "code",
      "source": [
        "# Bag of Words\n",
        "from sklearn.feature_extraction.text import CountVectorizer\n",
        "\n",
        "# Corpus: Collection of text documents (sentences)\n",
        "corpus = [\n",
        "    \"This is the first document.\",\n",
        "    \"The second document is here.\",\n",
        "    \"And this is the third document.\",\n",
        "    \"Is this the first document?\"\n",
        "]\n",
        "\n",
        "# Create the CountVectorizer with bigram N-grams\n",
        "vectorizer = CountVectorizer(ngram_range=(2, 2))\n",
        "X_bigram = vectorizer.fit_transform(corpus)\n",
        "\n",
        "# Vocabulary with bigram N-grams\n",
        "bigram_vocabulary = vectorizer.get_feature_names_out()\n",
        "\n",
        "# Print bigram vocabularies\n",
        "print(\"Vocabulary with Bigram N-grams:\")\n",
        "print(bigram_vocabulary)\n",
        "\n",
        "# Print vector representation of the documents with bigram N-grams\n",
        "print((X_bigram.toarray()))"
      ],
      "metadata": {
        "colab": {
          "base_uri": "https://localhost:8080/",
          "height": 150
        },
        "id": "qrHKKMfWKKqx",
        "outputId": "e39ef6ae-979e-48da-a704-46794129b0fb"
      },
      "execution_count": null,
      "outputs": [
        {
          "output_type": "display_data",
          "data": {
            "text/plain": [
              "Vocabulary with Bigram N-grams:\n"
            ],
            "text/html": [
              "<pre style=\"white-space:pre;overflow-x:auto;line-height:normal;font-family:Menlo,'DejaVu Sans Mono',consolas,'Courier New',monospace\">Vocabulary with Bigram N-grams:\n",
              "</pre>\n"
            ]
          },
          "metadata": {}
        },
        {
          "output_type": "display_data",
          "data": {
            "text/plain": [
              "\u001b[1m[\u001b[0m\u001b[32m'and this'\u001b[0m \u001b[32m'document is'\u001b[0m \u001b[32m'first document'\u001b[0m \u001b[32m'is here'\u001b[0m \u001b[32m'is the'\u001b[0m \u001b[32m'is this'\u001b[0m\n",
              " \u001b[32m'second document'\u001b[0m \u001b[32m'the first'\u001b[0m \u001b[32m'the second'\u001b[0m \u001b[32m'the third'\u001b[0m \u001b[32m'third document'\u001b[0m\n",
              " \u001b[32m'this is'\u001b[0m \u001b[32m'this the'\u001b[0m\u001b[1m]\u001b[0m\n"
            ],
            "text/html": [
              "<pre style=\"white-space:pre;overflow-x:auto;line-height:normal;font-family:Menlo,'DejaVu Sans Mono',consolas,'Courier New',monospace\"><span style=\"font-weight: bold\">[</span><span style=\"color: #008000; text-decoration-color: #008000\">'and this'</span> <span style=\"color: #008000; text-decoration-color: #008000\">'document is'</span> <span style=\"color: #008000; text-decoration-color: #008000\">'first document'</span> <span style=\"color: #008000; text-decoration-color: #008000\">'is here'</span> <span style=\"color: #008000; text-decoration-color: #008000\">'is the'</span> <span style=\"color: #008000; text-decoration-color: #008000\">'is this'</span>\n",
              " <span style=\"color: #008000; text-decoration-color: #008000\">'second document'</span> <span style=\"color: #008000; text-decoration-color: #008000\">'the first'</span> <span style=\"color: #008000; text-decoration-color: #008000\">'the second'</span> <span style=\"color: #008000; text-decoration-color: #008000\">'the third'</span> <span style=\"color: #008000; text-decoration-color: #008000\">'third document'</span>\n",
              " <span style=\"color: #008000; text-decoration-color: #008000\">'this is'</span> <span style=\"color: #008000; text-decoration-color: #008000\">'this the'</span><span style=\"font-weight: bold\">]</span>\n",
              "</pre>\n"
            ]
          },
          "metadata": {}
        },
        {
          "output_type": "display_data",
          "data": {
            "text/plain": [
              "\u001b[1m[\u001b[0m\u001b[1m[\u001b[0m\u001b[1;36m0\u001b[0m \u001b[1;36m0\u001b[0m \u001b[1;36m1\u001b[0m \u001b[1;36m0\u001b[0m \u001b[1;36m1\u001b[0m \u001b[1;36m0\u001b[0m \u001b[1;36m0\u001b[0m \u001b[1;36m1\u001b[0m \u001b[1;36m0\u001b[0m \u001b[1;36m0\u001b[0m \u001b[1;36m0\u001b[0m \u001b[1;36m1\u001b[0m \u001b[1;36m0\u001b[0m\u001b[1m]\u001b[0m\n",
              " \u001b[1m[\u001b[0m\u001b[1;36m0\u001b[0m \u001b[1;36m1\u001b[0m \u001b[1;36m0\u001b[0m \u001b[1;36m1\u001b[0m \u001b[1;36m0\u001b[0m \u001b[1;36m0\u001b[0m \u001b[1;36m1\u001b[0m \u001b[1;36m0\u001b[0m \u001b[1;36m1\u001b[0m \u001b[1;36m0\u001b[0m \u001b[1;36m0\u001b[0m \u001b[1;36m0\u001b[0m \u001b[1;36m0\u001b[0m\u001b[1m]\u001b[0m\n",
              " \u001b[1m[\u001b[0m\u001b[1;36m1\u001b[0m \u001b[1;36m0\u001b[0m \u001b[1;36m0\u001b[0m \u001b[1;36m0\u001b[0m \u001b[1;36m1\u001b[0m \u001b[1;36m0\u001b[0m \u001b[1;36m0\u001b[0m \u001b[1;36m0\u001b[0m \u001b[1;36m0\u001b[0m \u001b[1;36m1\u001b[0m \u001b[1;36m1\u001b[0m \u001b[1;36m1\u001b[0m \u001b[1;36m0\u001b[0m\u001b[1m]\u001b[0m\n",
              " \u001b[1m[\u001b[0m\u001b[1;36m0\u001b[0m \u001b[1;36m0\u001b[0m \u001b[1;36m1\u001b[0m \u001b[1;36m0\u001b[0m \u001b[1;36m0\u001b[0m \u001b[1;36m1\u001b[0m \u001b[1;36m0\u001b[0m \u001b[1;36m1\u001b[0m \u001b[1;36m0\u001b[0m \u001b[1;36m0\u001b[0m \u001b[1;36m0\u001b[0m \u001b[1;36m0\u001b[0m \u001b[1;36m1\u001b[0m\u001b[1m]\u001b[0m\u001b[1m]\u001b[0m\n"
            ],
            "text/html": [
              "<pre style=\"white-space:pre;overflow-x:auto;line-height:normal;font-family:Menlo,'DejaVu Sans Mono',consolas,'Courier New',monospace\"><span style=\"font-weight: bold\">[[</span><span style=\"color: #008080; text-decoration-color: #008080; font-weight: bold\">0</span> <span style=\"color: #008080; text-decoration-color: #008080; font-weight: bold\">0</span> <span style=\"color: #008080; text-decoration-color: #008080; font-weight: bold\">1</span> <span style=\"color: #008080; text-decoration-color: #008080; font-weight: bold\">0</span> <span style=\"color: #008080; text-decoration-color: #008080; font-weight: bold\">1</span> <span style=\"color: #008080; text-decoration-color: #008080; font-weight: bold\">0</span> <span style=\"color: #008080; text-decoration-color: #008080; font-weight: bold\">0</span> <span style=\"color: #008080; text-decoration-color: #008080; font-weight: bold\">1</span> <span style=\"color: #008080; text-decoration-color: #008080; font-weight: bold\">0</span> <span style=\"color: #008080; text-decoration-color: #008080; font-weight: bold\">0</span> <span style=\"color: #008080; text-decoration-color: #008080; font-weight: bold\">0</span> <span style=\"color: #008080; text-decoration-color: #008080; font-weight: bold\">1</span> <span style=\"color: #008080; text-decoration-color: #008080; font-weight: bold\">0</span><span style=\"font-weight: bold\">]</span>\n",
              " <span style=\"font-weight: bold\">[</span><span style=\"color: #008080; text-decoration-color: #008080; font-weight: bold\">0</span> <span style=\"color: #008080; text-decoration-color: #008080; font-weight: bold\">1</span> <span style=\"color: #008080; text-decoration-color: #008080; font-weight: bold\">0</span> <span style=\"color: #008080; text-decoration-color: #008080; font-weight: bold\">1</span> <span style=\"color: #008080; text-decoration-color: #008080; font-weight: bold\">0</span> <span style=\"color: #008080; text-decoration-color: #008080; font-weight: bold\">0</span> <span style=\"color: #008080; text-decoration-color: #008080; font-weight: bold\">1</span> <span style=\"color: #008080; text-decoration-color: #008080; font-weight: bold\">0</span> <span style=\"color: #008080; text-decoration-color: #008080; font-weight: bold\">1</span> <span style=\"color: #008080; text-decoration-color: #008080; font-weight: bold\">0</span> <span style=\"color: #008080; text-decoration-color: #008080; font-weight: bold\">0</span> <span style=\"color: #008080; text-decoration-color: #008080; font-weight: bold\">0</span> <span style=\"color: #008080; text-decoration-color: #008080; font-weight: bold\">0</span><span style=\"font-weight: bold\">]</span>\n",
              " <span style=\"font-weight: bold\">[</span><span style=\"color: #008080; text-decoration-color: #008080; font-weight: bold\">1</span> <span style=\"color: #008080; text-decoration-color: #008080; font-weight: bold\">0</span> <span style=\"color: #008080; text-decoration-color: #008080; font-weight: bold\">0</span> <span style=\"color: #008080; text-decoration-color: #008080; font-weight: bold\">0</span> <span style=\"color: #008080; text-decoration-color: #008080; font-weight: bold\">1</span> <span style=\"color: #008080; text-decoration-color: #008080; font-weight: bold\">0</span> <span style=\"color: #008080; text-decoration-color: #008080; font-weight: bold\">0</span> <span style=\"color: #008080; text-decoration-color: #008080; font-weight: bold\">0</span> <span style=\"color: #008080; text-decoration-color: #008080; font-weight: bold\">0</span> <span style=\"color: #008080; text-decoration-color: #008080; font-weight: bold\">1</span> <span style=\"color: #008080; text-decoration-color: #008080; font-weight: bold\">1</span> <span style=\"color: #008080; text-decoration-color: #008080; font-weight: bold\">1</span> <span style=\"color: #008080; text-decoration-color: #008080; font-weight: bold\">0</span><span style=\"font-weight: bold\">]</span>\n",
              " <span style=\"font-weight: bold\">[</span><span style=\"color: #008080; text-decoration-color: #008080; font-weight: bold\">0</span> <span style=\"color: #008080; text-decoration-color: #008080; font-weight: bold\">0</span> <span style=\"color: #008080; text-decoration-color: #008080; font-weight: bold\">1</span> <span style=\"color: #008080; text-decoration-color: #008080; font-weight: bold\">0</span> <span style=\"color: #008080; text-decoration-color: #008080; font-weight: bold\">0</span> <span style=\"color: #008080; text-decoration-color: #008080; font-weight: bold\">1</span> <span style=\"color: #008080; text-decoration-color: #008080; font-weight: bold\">0</span> <span style=\"color: #008080; text-decoration-color: #008080; font-weight: bold\">1</span> <span style=\"color: #008080; text-decoration-color: #008080; font-weight: bold\">0</span> <span style=\"color: #008080; text-decoration-color: #008080; font-weight: bold\">0</span> <span style=\"color: #008080; text-decoration-color: #008080; font-weight: bold\">0</span> <span style=\"color: #008080; text-decoration-color: #008080; font-weight: bold\">0</span> <span style=\"color: #008080; text-decoration-color: #008080; font-weight: bold\">1</span><span style=\"font-weight: bold\">]]</span>\n",
              "</pre>\n"
            ]
          },
          "metadata": {}
        }
      ]
    },
    {
      "cell_type": "code",
      "source": [
        "# TF-IDF\n",
        "from sklearn.feature_extraction.text import TfidfVectorizer\n",
        "\n",
        "# Corpus: Collection of text documents (sentences)\n",
        "corpus = [\n",
        "    \"This is the first document.\",\n",
        "    \"The second document is here.\",\n",
        "    \"And this is the third document.\",\n",
        "    \"Is this the first document?\"\n",
        "]\n",
        "\n",
        "# Create the TF-IDF Vectorizer\n",
        "vectorizer_tfidf = TfidfVectorizer()\n",
        "X_tfidf = vectorizer_tfidf.fit_transform(corpus)\n",
        "\n",
        "# Vocabulary for TF-IDF\n",
        "tfidf_vocabulary = vectorizer_tfidf.get_feature_names_out()\n",
        "\n",
        "# Print TF-IDF vocabularies\n",
        "print(\"Vocabulary for TF-IDF:\")\n",
        "print(tfidf_vocabulary)\n",
        "print(\"\\nVector representation\")\n",
        "print(X_tfidf.toarray(),\"\\n\")\n",
        "# Print vector representation of the documents with TF-IDF\n",
        "print(\"\\nVector representation of the documents with TF-IDF:\")\n",
        "for i, document in enumerate(corpus, start=1):\n",
        "    print(f\"Document {i}:\")\n",
        "    print(X_tfidf.toarray()[i - 1])\n"
      ],
      "metadata": {
        "colab": {
          "base_uri": "https://localhost:8080/",
          "height": 434
        },
        "id": "9piBK5OONfCV",
        "outputId": "4d8365f5-664a-436b-f52b-38ec57291ecf"
      },
      "execution_count": null,
      "outputs": [
        {
          "output_type": "display_data",
          "data": {
            "text/plain": [
              "Vocabulary for TF-IDF:\n"
            ],
            "text/html": [
              "<pre style=\"white-space:pre;overflow-x:auto;line-height:normal;font-family:Menlo,'DejaVu Sans Mono',consolas,'Courier New',monospace\">Vocabulary for TF-IDF:\n",
              "</pre>\n"
            ]
          },
          "metadata": {}
        },
        {
          "output_type": "display_data",
          "data": {
            "text/plain": [
              "\u001b[1m[\u001b[0m\u001b[32m'and'\u001b[0m \u001b[32m'document'\u001b[0m \u001b[32m'first'\u001b[0m \u001b[32m'here'\u001b[0m \u001b[32m'is'\u001b[0m \u001b[32m'second'\u001b[0m \u001b[32m'the'\u001b[0m \u001b[32m'third'\u001b[0m \u001b[32m'this'\u001b[0m\u001b[1m]\u001b[0m\n"
            ],
            "text/html": [
              "<pre style=\"white-space:pre;overflow-x:auto;line-height:normal;font-family:Menlo,'DejaVu Sans Mono',consolas,'Courier New',monospace\"><span style=\"font-weight: bold\">[</span><span style=\"color: #008000; text-decoration-color: #008000\">'and'</span> <span style=\"color: #008000; text-decoration-color: #008000\">'document'</span> <span style=\"color: #008000; text-decoration-color: #008000\">'first'</span> <span style=\"color: #008000; text-decoration-color: #008000\">'here'</span> <span style=\"color: #008000; text-decoration-color: #008000\">'is'</span> <span style=\"color: #008000; text-decoration-color: #008000\">'second'</span> <span style=\"color: #008000; text-decoration-color: #008000\">'the'</span> <span style=\"color: #008000; text-decoration-color: #008000\">'third'</span> <span style=\"color: #008000; text-decoration-color: #008000\">'this'</span><span style=\"font-weight: bold\">]</span>\n",
              "</pre>\n"
            ]
          },
          "metadata": {}
        },
        {
          "output_type": "display_data",
          "data": {
            "text/plain": [
              "\n",
              "Vector representation\n"
            ],
            "text/html": [
              "<pre style=\"white-space:pre;overflow-x:auto;line-height:normal;font-family:Menlo,'DejaVu Sans Mono',consolas,'Courier New',monospace\">\n",
              "Vector representation\n",
              "</pre>\n"
            ]
          },
          "metadata": {}
        },
        {
          "output_type": "display_data",
          "data": {
            "text/plain": [
              "\u001b[1m[\u001b[0m\u001b[1m[\u001b[0m\u001b[1;36m0\u001b[0m.         \u001b[1;36m0.38408524\u001b[0m \u001b[1;36m0.58028582\u001b[0m \u001b[1;36m0\u001b[0m.         \u001b[1;36m0.38408524\u001b[0m \u001b[1;36m0\u001b[0m.\n",
              "  \u001b[1;36m0.38408524\u001b[0m \u001b[1;36m0\u001b[0m.         \u001b[1;36m0.46979139\u001b[0m\u001b[1m]\u001b[0m\n",
              " \u001b[1m[\u001b[0m\u001b[1;36m0\u001b[0m.         \u001b[1;36m0.31091996\u001b[0m \u001b[1;36m0\u001b[0m.         \u001b[1;36m0.59581303\u001b[0m \u001b[1;36m0.31091996\u001b[0m \u001b[1;36m0.59581303\u001b[0m\n",
              "  \u001b[1;36m0.31091996\u001b[0m \u001b[1;36m0\u001b[0m.         \u001b[1;36m0\u001b[0m.        \u001b[1m]\u001b[0m\n",
              " \u001b[1m[\u001b[0m\u001b[1;36m0.55690079\u001b[0m \u001b[1;36m0.29061394\u001b[0m \u001b[1;36m0\u001b[0m.         \u001b[1;36m0\u001b[0m.         \u001b[1;36m0.29061394\u001b[0m \u001b[1;36m0\u001b[0m.\n",
              "  \u001b[1;36m0.29061394\u001b[0m \u001b[1;36m0.55690079\u001b[0m \u001b[1;36m0.35546256\u001b[0m\u001b[1m]\u001b[0m\n",
              " \u001b[1m[\u001b[0m\u001b[1;36m0\u001b[0m.         \u001b[1;36m0.38408524\u001b[0m \u001b[1;36m0.58028582\u001b[0m \u001b[1;36m0\u001b[0m.         \u001b[1;36m0.38408524\u001b[0m \u001b[1;36m0\u001b[0m.\n",
              "  \u001b[1;36m0.38408524\u001b[0m \u001b[1;36m0\u001b[0m.         \u001b[1;36m0.46979139\u001b[0m\u001b[1m]\u001b[0m\u001b[1m]\u001b[0m \n",
              "\n"
            ],
            "text/html": [
              "<pre style=\"white-space:pre;overflow-x:auto;line-height:normal;font-family:Menlo,'DejaVu Sans Mono',consolas,'Courier New',monospace\"><span style=\"font-weight: bold\">[[</span><span style=\"color: #008080; text-decoration-color: #008080; font-weight: bold\">0</span>.         <span style=\"color: #008080; text-decoration-color: #008080; font-weight: bold\">0.38408524</span> <span style=\"color: #008080; text-decoration-color: #008080; font-weight: bold\">0.58028582</span> <span style=\"color: #008080; text-decoration-color: #008080; font-weight: bold\">0</span>.         <span style=\"color: #008080; text-decoration-color: #008080; font-weight: bold\">0.38408524</span> <span style=\"color: #008080; text-decoration-color: #008080; font-weight: bold\">0</span>.\n",
              "  <span style=\"color: #008080; text-decoration-color: #008080; font-weight: bold\">0.38408524</span> <span style=\"color: #008080; text-decoration-color: #008080; font-weight: bold\">0</span>.         <span style=\"color: #008080; text-decoration-color: #008080; font-weight: bold\">0.46979139</span><span style=\"font-weight: bold\">]</span>\n",
              " <span style=\"font-weight: bold\">[</span><span style=\"color: #008080; text-decoration-color: #008080; font-weight: bold\">0</span>.         <span style=\"color: #008080; text-decoration-color: #008080; font-weight: bold\">0.31091996</span> <span style=\"color: #008080; text-decoration-color: #008080; font-weight: bold\">0</span>.         <span style=\"color: #008080; text-decoration-color: #008080; font-weight: bold\">0.59581303</span> <span style=\"color: #008080; text-decoration-color: #008080; font-weight: bold\">0.31091996</span> <span style=\"color: #008080; text-decoration-color: #008080; font-weight: bold\">0.59581303</span>\n",
              "  <span style=\"color: #008080; text-decoration-color: #008080; font-weight: bold\">0.31091996</span> <span style=\"color: #008080; text-decoration-color: #008080; font-weight: bold\">0</span>.         <span style=\"color: #008080; text-decoration-color: #008080; font-weight: bold\">0</span>.        <span style=\"font-weight: bold\">]</span>\n",
              " <span style=\"font-weight: bold\">[</span><span style=\"color: #008080; text-decoration-color: #008080; font-weight: bold\">0.55690079</span> <span style=\"color: #008080; text-decoration-color: #008080; font-weight: bold\">0.29061394</span> <span style=\"color: #008080; text-decoration-color: #008080; font-weight: bold\">0</span>.         <span style=\"color: #008080; text-decoration-color: #008080; font-weight: bold\">0</span>.         <span style=\"color: #008080; text-decoration-color: #008080; font-weight: bold\">0.29061394</span> <span style=\"color: #008080; text-decoration-color: #008080; font-weight: bold\">0</span>.\n",
              "  <span style=\"color: #008080; text-decoration-color: #008080; font-weight: bold\">0.29061394</span> <span style=\"color: #008080; text-decoration-color: #008080; font-weight: bold\">0.55690079</span> <span style=\"color: #008080; text-decoration-color: #008080; font-weight: bold\">0.35546256</span><span style=\"font-weight: bold\">]</span>\n",
              " <span style=\"font-weight: bold\">[</span><span style=\"color: #008080; text-decoration-color: #008080; font-weight: bold\">0</span>.         <span style=\"color: #008080; text-decoration-color: #008080; font-weight: bold\">0.38408524</span> <span style=\"color: #008080; text-decoration-color: #008080; font-weight: bold\">0.58028582</span> <span style=\"color: #008080; text-decoration-color: #008080; font-weight: bold\">0</span>.         <span style=\"color: #008080; text-decoration-color: #008080; font-weight: bold\">0.38408524</span> <span style=\"color: #008080; text-decoration-color: #008080; font-weight: bold\">0</span>.\n",
              "  <span style=\"color: #008080; text-decoration-color: #008080; font-weight: bold\">0.38408524</span> <span style=\"color: #008080; text-decoration-color: #008080; font-weight: bold\">0</span>.         <span style=\"color: #008080; text-decoration-color: #008080; font-weight: bold\">0.46979139</span><span style=\"font-weight: bold\">]]</span> \n",
              "\n",
              "</pre>\n"
            ]
          },
          "metadata": {}
        },
        {
          "output_type": "display_data",
          "data": {
            "text/plain": [
              "\n",
              "Vector representation of the documents with TF-IDF:\n"
            ],
            "text/html": [
              "<pre style=\"white-space:pre;overflow-x:auto;line-height:normal;font-family:Menlo,'DejaVu Sans Mono',consolas,'Courier New',monospace\">\n",
              "Vector representation of the documents with TF-IDF:\n",
              "</pre>\n"
            ]
          },
          "metadata": {}
        },
        {
          "output_type": "display_data",
          "data": {
            "text/plain": [
              "Document \u001b[1;36m1\u001b[0m:\n"
            ],
            "text/html": [
              "<pre style=\"white-space:pre;overflow-x:auto;line-height:normal;font-family:Menlo,'DejaVu Sans Mono',consolas,'Courier New',monospace\">Document <span style=\"color: #008080; text-decoration-color: #008080; font-weight: bold\">1</span>:\n",
              "</pre>\n"
            ]
          },
          "metadata": {}
        },
        {
          "output_type": "display_data",
          "data": {
            "text/plain": [
              "\u001b[1m[\u001b[0m\u001b[1;36m0\u001b[0m.         \u001b[1;36m0.38408524\u001b[0m \u001b[1;36m0.58028582\u001b[0m \u001b[1;36m0\u001b[0m.         \u001b[1;36m0.38408524\u001b[0m \u001b[1;36m0\u001b[0m.\n",
              " \u001b[1;36m0.38408524\u001b[0m \u001b[1;36m0\u001b[0m.         \u001b[1;36m0.46979139\u001b[0m\u001b[1m]\u001b[0m\n"
            ],
            "text/html": [
              "<pre style=\"white-space:pre;overflow-x:auto;line-height:normal;font-family:Menlo,'DejaVu Sans Mono',consolas,'Courier New',monospace\"><span style=\"font-weight: bold\">[</span><span style=\"color: #008080; text-decoration-color: #008080; font-weight: bold\">0</span>.         <span style=\"color: #008080; text-decoration-color: #008080; font-weight: bold\">0.38408524</span> <span style=\"color: #008080; text-decoration-color: #008080; font-weight: bold\">0.58028582</span> <span style=\"color: #008080; text-decoration-color: #008080; font-weight: bold\">0</span>.         <span style=\"color: #008080; text-decoration-color: #008080; font-weight: bold\">0.38408524</span> <span style=\"color: #008080; text-decoration-color: #008080; font-weight: bold\">0</span>.\n",
              " <span style=\"color: #008080; text-decoration-color: #008080; font-weight: bold\">0.38408524</span> <span style=\"color: #008080; text-decoration-color: #008080; font-weight: bold\">0</span>.         <span style=\"color: #008080; text-decoration-color: #008080; font-weight: bold\">0.46979139</span><span style=\"font-weight: bold\">]</span>\n",
              "</pre>\n"
            ]
          },
          "metadata": {}
        },
        {
          "output_type": "display_data",
          "data": {
            "text/plain": [
              "Document \u001b[1;36m2\u001b[0m:\n"
            ],
            "text/html": [
              "<pre style=\"white-space:pre;overflow-x:auto;line-height:normal;font-family:Menlo,'DejaVu Sans Mono',consolas,'Courier New',monospace\">Document <span style=\"color: #008080; text-decoration-color: #008080; font-weight: bold\">2</span>:\n",
              "</pre>\n"
            ]
          },
          "metadata": {}
        },
        {
          "output_type": "display_data",
          "data": {
            "text/plain": [
              "\u001b[1m[\u001b[0m\u001b[1;36m0\u001b[0m.         \u001b[1;36m0.31091996\u001b[0m \u001b[1;36m0\u001b[0m.         \u001b[1;36m0.59581303\u001b[0m \u001b[1;36m0.31091996\u001b[0m \u001b[1;36m0.59581303\u001b[0m\n",
              " \u001b[1;36m0.31091996\u001b[0m \u001b[1;36m0\u001b[0m.         \u001b[1;36m0\u001b[0m.        \u001b[1m]\u001b[0m\n"
            ],
            "text/html": [
              "<pre style=\"white-space:pre;overflow-x:auto;line-height:normal;font-family:Menlo,'DejaVu Sans Mono',consolas,'Courier New',monospace\"><span style=\"font-weight: bold\">[</span><span style=\"color: #008080; text-decoration-color: #008080; font-weight: bold\">0</span>.         <span style=\"color: #008080; text-decoration-color: #008080; font-weight: bold\">0.31091996</span> <span style=\"color: #008080; text-decoration-color: #008080; font-weight: bold\">0</span>.         <span style=\"color: #008080; text-decoration-color: #008080; font-weight: bold\">0.59581303</span> <span style=\"color: #008080; text-decoration-color: #008080; font-weight: bold\">0.31091996</span> <span style=\"color: #008080; text-decoration-color: #008080; font-weight: bold\">0.59581303</span>\n",
              " <span style=\"color: #008080; text-decoration-color: #008080; font-weight: bold\">0.31091996</span> <span style=\"color: #008080; text-decoration-color: #008080; font-weight: bold\">0</span>.         <span style=\"color: #008080; text-decoration-color: #008080; font-weight: bold\">0</span>.        <span style=\"font-weight: bold\">]</span>\n",
              "</pre>\n"
            ]
          },
          "metadata": {}
        },
        {
          "output_type": "display_data",
          "data": {
            "text/plain": [
              "Document \u001b[1;36m3\u001b[0m:\n"
            ],
            "text/html": [
              "<pre style=\"white-space:pre;overflow-x:auto;line-height:normal;font-family:Menlo,'DejaVu Sans Mono',consolas,'Courier New',monospace\">Document <span style=\"color: #008080; text-decoration-color: #008080; font-weight: bold\">3</span>:\n",
              "</pre>\n"
            ]
          },
          "metadata": {}
        },
        {
          "output_type": "display_data",
          "data": {
            "text/plain": [
              "\u001b[1m[\u001b[0m\u001b[1;36m0.55690079\u001b[0m \u001b[1;36m0.29061394\u001b[0m \u001b[1;36m0\u001b[0m.         \u001b[1;36m0\u001b[0m.         \u001b[1;36m0.29061394\u001b[0m \u001b[1;36m0\u001b[0m.\n",
              " \u001b[1;36m0.29061394\u001b[0m \u001b[1;36m0.55690079\u001b[0m \u001b[1;36m0.35546256\u001b[0m\u001b[1m]\u001b[0m\n"
            ],
            "text/html": [
              "<pre style=\"white-space:pre;overflow-x:auto;line-height:normal;font-family:Menlo,'DejaVu Sans Mono',consolas,'Courier New',monospace\"><span style=\"font-weight: bold\">[</span><span style=\"color: #008080; text-decoration-color: #008080; font-weight: bold\">0.55690079</span> <span style=\"color: #008080; text-decoration-color: #008080; font-weight: bold\">0.29061394</span> <span style=\"color: #008080; text-decoration-color: #008080; font-weight: bold\">0</span>.         <span style=\"color: #008080; text-decoration-color: #008080; font-weight: bold\">0</span>.         <span style=\"color: #008080; text-decoration-color: #008080; font-weight: bold\">0.29061394</span> <span style=\"color: #008080; text-decoration-color: #008080; font-weight: bold\">0</span>.\n",
              " <span style=\"color: #008080; text-decoration-color: #008080; font-weight: bold\">0.29061394</span> <span style=\"color: #008080; text-decoration-color: #008080; font-weight: bold\">0.55690079</span> <span style=\"color: #008080; text-decoration-color: #008080; font-weight: bold\">0.35546256</span><span style=\"font-weight: bold\">]</span>\n",
              "</pre>\n"
            ]
          },
          "metadata": {}
        },
        {
          "output_type": "display_data",
          "data": {
            "text/plain": [
              "Document \u001b[1;36m4\u001b[0m:\n"
            ],
            "text/html": [
              "<pre style=\"white-space:pre;overflow-x:auto;line-height:normal;font-family:Menlo,'DejaVu Sans Mono',consolas,'Courier New',monospace\">Document <span style=\"color: #008080; text-decoration-color: #008080; font-weight: bold\">4</span>:\n",
              "</pre>\n"
            ]
          },
          "metadata": {}
        },
        {
          "output_type": "display_data",
          "data": {
            "text/plain": [
              "\u001b[1m[\u001b[0m\u001b[1;36m0\u001b[0m.         \u001b[1;36m0.38408524\u001b[0m \u001b[1;36m0.58028582\u001b[0m \u001b[1;36m0\u001b[0m.         \u001b[1;36m0.38408524\u001b[0m \u001b[1;36m0\u001b[0m.\n",
              " \u001b[1;36m0.38408524\u001b[0m \u001b[1;36m0\u001b[0m.         \u001b[1;36m0.46979139\u001b[0m\u001b[1m]\u001b[0m\n"
            ],
            "text/html": [
              "<pre style=\"white-space:pre;overflow-x:auto;line-height:normal;font-family:Menlo,'DejaVu Sans Mono',consolas,'Courier New',monospace\"><span style=\"font-weight: bold\">[</span><span style=\"color: #008080; text-decoration-color: #008080; font-weight: bold\">0</span>.         <span style=\"color: #008080; text-decoration-color: #008080; font-weight: bold\">0.38408524</span> <span style=\"color: #008080; text-decoration-color: #008080; font-weight: bold\">0.58028582</span> <span style=\"color: #008080; text-decoration-color: #008080; font-weight: bold\">0</span>.         <span style=\"color: #008080; text-decoration-color: #008080; font-weight: bold\">0.38408524</span> <span style=\"color: #008080; text-decoration-color: #008080; font-weight: bold\">0</span>.\n",
              " <span style=\"color: #008080; text-decoration-color: #008080; font-weight: bold\">0.38408524</span> <span style=\"color: #008080; text-decoration-color: #008080; font-weight: bold\">0</span>.         <span style=\"color: #008080; text-decoration-color: #008080; font-weight: bold\">0.46979139</span><span style=\"font-weight: bold\">]</span>\n",
              "</pre>\n"
            ]
          },
          "metadata": {}
        }
      ]
    },
    {
      "cell_type": "markdown",
      "source": [
        "\n",
        "3. **Word Embeddings - Deep Learning Trained Models**:\n",
        "   - **Word2Vec**: A popular word embedding model that learns word vectors from large amounts of text data.\n",
        "     - **CBOW (Continuous Bag of Words)**: Predicts a word from its context (surrounding words).\n",
        "     - **Skip-gram**: Predicts context words given a target word.\n",
        "     - *Advantages*: Captures semantic relationships and word analogies.\n",
        "     - *Disadvantages*: Requires large training datasets and computational resources.\n",
        "   - **Average Word2Vec**: Takes the average of word vectors in a document to obtain a document-level representation.\n",
        "     - *Advantages*: Simple and computationally efficient.\n",
        "     - *Disadvantages*: Loses word order and context information."
      ],
      "metadata": {
        "id": "yv2wIdy56DW4"
      }
    },
    {
      "cell_type": "code",
      "source": [
        "## Word Embeddings- CBOW\n",
        "from gensim.models import Word2Vec\n",
        "\n",
        "# Sample corpus (list of sentences)\n",
        "corpus = [\n",
        "    \"I love natural language processing.\",\n",
        "    \"Word embeddings are powerful.\",\n",
        "    \"Gensim is a popular NLP library.\",\n",
        "    \"Word2Vec is used for word embeddings.\",\n",
        "    \"Machine learning is an exciting field.\",\n",
        "    \"Natural language processing is fascinating.\",\n",
        "]\n",
        "\n",
        "# Tokenize the sentences into words\n",
        "tokenized_corpus = [sentence.split() for sentence in corpus]\n",
        "\n",
        "# Train Word2Vec model\n",
        "model = Word2Vec(sentences=tokenized_corpus, vector_size=100, window=5, min_count=1, sg=0)  # sg=0 for CBOW, sg=1 for Skip-gram\n",
        "\n",
        "# Get word embeddings\n",
        "word_embeddings = model.wv\n",
        "\n",
        "# Check word embeddings for a specific word\n",
        "word = \"natural\"\n",
        "print(f\"Word embeddings for '{word}':\")\n",
        "print(word_embeddings[word])\n"
      ],
      "metadata": {
        "colab": {
          "base_uri": "https://localhost:8080/"
        },
        "id": "xCde2blk5uOh",
        "outputId": "3d3cf324-4a0f-4893-c22b-e7afb92234fe"
      },
      "execution_count": null,
      "outputs": [
        {
          "output_type": "stream",
          "name": "stdout",
          "text": [
            "Word embeddings for 'natural':\n",
            "[-8.7273493e-03  2.1338412e-03 -8.7237195e-04 -9.3203643e-03\n",
            " -9.4293803e-03 -1.4108053e-03  4.4366214e-03  3.7041160e-03\n",
            " -6.4995661e-03 -6.8759792e-03 -5.0012907e-03 -2.2880139e-03\n",
            " -7.2466894e-03 -9.6056927e-03 -2.7409189e-03 -8.3655678e-03\n",
            " -6.0378369e-03 -5.6738453e-03 -2.3442381e-03 -1.7093163e-03\n",
            " -8.9567676e-03 -7.3503336e-04  8.1489393e-03  7.6890145e-03\n",
            " -7.2097708e-03 -3.6669916e-03  3.1176507e-03 -9.5751481e-03\n",
            "  1.4777203e-03  6.5273619e-03  5.7451706e-03 -8.7653380e-03\n",
            " -4.5186016e-03 -8.1421286e-03  4.5378572e-05  9.2684561e-03\n",
            "  5.9704515e-03  5.0691962e-03  5.0627715e-03 -3.2445851e-03\n",
            "  9.5548471e-03 -7.3563973e-03 -7.2690817e-03 -2.2616270e-03\n",
            " -7.7878643e-04 -3.2184774e-03 -5.9350772e-04  7.4876128e-03\n",
            " -6.9592992e-04 -1.6239390e-03  2.7441652e-03 -8.3578480e-03\n",
            "  7.8571858e-03  8.5343011e-03 -9.5808953e-03  2.4493726e-03\n",
            "  9.9083344e-03 -7.6644877e-03 -6.9650519e-03 -7.7358182e-03\n",
            "  8.3951578e-03 -6.8444869e-04  9.1427807e-03 -8.1593376e-03\n",
            "  3.7454395e-03  2.6366669e-03  7.4197707e-04  2.3281686e-03\n",
            " -7.4687717e-03 -9.3615502e-03  2.3547206e-03  6.1471323e-03\n",
            "  7.9884417e-03  5.7370230e-03 -7.7741692e-04  8.3095375e-03\n",
            " -9.3344375e-03  3.4087212e-03  2.6799351e-04  3.8579884e-03\n",
            "  7.3833331e-03 -6.7231013e-03  5.5873888e-03 -9.5235445e-03\n",
            " -8.0055353e-04 -8.6884210e-03 -5.0978353e-03  9.2899771e-03\n",
            " -1.8557077e-03  2.9131297e-03  9.0743825e-03  8.9401333e-03\n",
            " -8.2093999e-03 -3.0112972e-03  9.8870201e-03  5.1042321e-03\n",
            " -1.5916503e-03 -8.6909523e-03  2.9641662e-03 -6.6765379e-03]\n"
          ]
        }
      ]
    },
    {
      "cell_type": "code",
      "source": [
        "## Word Embeddings- skip gram\n",
        "from gensim.models import Word2Vec\n",
        "\n",
        "# Sample corpus (list of sentences)\n",
        "corpus = [\n",
        "    \"I love natural language processing.\",\n",
        "    \"Word embeddings are powerful.\",\n",
        "    \"Gensim is a popular NLP library.\",\n",
        "    \"Word2Vec is used for word embeddings.\",\n",
        "    \"Machine learning is an exciting field.\",\n",
        "    \"Natural language processing is fascinating.\",\n",
        "]\n",
        "\n",
        "# Tokenize the sentences into words\n",
        "tokenized_corpus = [sentence.split() for sentence in corpus]\n",
        "\n",
        "# Train Word2Vec model with Skip-gram\n",
        "model = Word2Vec(sentences=tokenized_corpus, vector_size=100, window=5, min_count=1, sg=1)  # sg=1 for Skip-gram\n",
        "\n",
        "# Get word embeddings\n",
        "word_embeddings = model.wv\n",
        "\n",
        "# Check word embeddings for a specific word\n",
        "word = \"natural\"\n",
        "print(f\"Word embeddings for '{word}':\")\n",
        "print(word_embeddings[word])\n"
      ],
      "metadata": {
        "colab": {
          "base_uri": "https://localhost:8080/"
        },
        "id": "fb0i8Pw5gzkv",
        "outputId": "b5d6209f-2d3a-47fe-fe95-9a891888da6e"
      },
      "execution_count": null,
      "outputs": [
        {
          "output_type": "stream",
          "name": "stdout",
          "text": [
            "Word embeddings for 'natural':\n",
            "[-8.7282434e-03  2.1323499e-03 -8.7293837e-04 -9.3202461e-03\n",
            " -9.4291931e-03 -1.4109012e-03  4.4344491e-03  3.7042808e-03\n",
            " -6.4992919e-03 -6.8747955e-03 -5.0009028e-03 -2.2876314e-03\n",
            " -7.2487770e-03 -9.6054496e-03 -2.7421385e-03 -8.3645936e-03\n",
            " -6.0391035e-03 -5.6730080e-03 -2.3443603e-03 -1.7078170e-03\n",
            " -8.9573581e-03 -7.3504820e-04  8.1506288e-03  7.6900194e-03\n",
            " -7.2083804e-03 -3.6672179e-03  3.1183362e-03 -9.5731718e-03\n",
            "  1.4771431e-03  6.5263347e-03  5.7457364e-03 -8.7650688e-03\n",
            " -4.5180772e-03 -8.1416983e-03  4.5987152e-05  9.2664352e-03\n",
            "  5.9724897e-03  5.0689536e-03  5.0624730e-03 -3.2434696e-03\n",
            "  9.5536355e-03 -7.3564979e-03 -7.2704842e-03 -2.2632363e-03\n",
            " -7.7888061e-04 -3.2179474e-03 -5.9269514e-04  7.4890708e-03\n",
            " -6.9653458e-04 -1.6243787e-03  2.7444451e-03 -8.3584115e-03\n",
            "  7.8573301e-03  8.5354634e-03 -9.5825167e-03  2.4483970e-03\n",
            "  9.9072671e-03 -7.6650758e-03 -6.9659669e-03 -7.7361115e-03\n",
            "  8.3959494e-03 -6.8271364e-04  9.1436859e-03 -8.1592491e-03\n",
            "  3.7446294e-03  2.6356801e-03  7.4268493e-04  2.3282769e-03\n",
            " -7.4689141e-03 -9.3602194e-03  2.3548589e-03  6.1477469e-03\n",
            "  7.9876035e-03  5.7365126e-03 -7.7774451e-04  8.3086481e-03\n",
            " -9.3360366e-03  3.4073028e-03  2.6755201e-04  3.8574908e-03\n",
            "  7.3845936e-03 -6.7241127e-03  5.5865608e-03 -9.5234802e-03\n",
            " -8.0243871e-04 -8.6886836e-03 -5.0989557e-03  9.2903171e-03\n",
            " -1.8567197e-03  2.9139260e-03  9.0734316e-03  8.9395549e-03\n",
            " -8.2091242e-03 -3.0119368e-03  9.8873433e-03  5.1045534e-03\n",
            " -1.5903675e-03 -8.6916219e-03  2.9630803e-03 -6.6768378e-03]\n"
          ]
        }
      ]
    },
    {
      "cell_type": "markdown",
      "source": [
        "\n",
        "4. **Machine Learning Use Cases**:\n",
        "   - Text Classification Example:\n",
        "     - Dataset: Collection of movie reviews labeled as \"positive\" or \"negative.\"\n",
        "     - Steps:\n",
        "       - Text preprocessing: Tokenization, lowercasing, removing stopwords.\n",
        "       - Text representation: Using TF-IDF or Word2Vec to convert text to numeric vectors.\n",
        "       - Model Training: Employing a machine learning algorithm like Naive Bayes or SVM.\n",
        "       - Model Evaluation: Testing the trained model on a separate test dataset.\n",
        "       - Prediction: Using the model to predict sentiment on new movie reviews."
      ],
      "metadata": {
        "id": "YK37wMym5hA7"
      }
    },
    {
      "cell_type": "code",
      "source": [],
      "metadata": {
        "id": "TcbX9QMC5vSc"
      },
      "execution_count": null,
      "outputs": []
    }
  ]
}